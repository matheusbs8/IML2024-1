{
 "cells": [
  {
   "cell_type": "markdown",
   "id": "4b867377",
   "metadata": {},
   "source": [
    "Importando as bibliotecas pandas e numpy e abrindo o arquivo notas.csv"
   ]
  },
  {
   "cell_type": "code",
   "execution_count": 13,
   "id": "5a8fd918",
   "metadata": {},
   "outputs": [
    {
     "data": {
      "text/html": [
       "<div>\n",
       "<style scoped>\n",
       "    .dataframe tbody tr th:only-of-type {\n",
       "        vertical-align: middle;\n",
       "    }\n",
       "\n",
       "    .dataframe tbody tr th {\n",
       "        vertical-align: top;\n",
       "    }\n",
       "\n",
       "    .dataframe thead th {\n",
       "        text-align: right;\n",
       "    }\n",
       "</style>\n",
       "<table border=\"1\" class=\"dataframe\">\n",
       "  <thead>\n",
       "    <tr style=\"text-align: right;\">\n",
       "      <th></th>\n",
       "      <th>códigoDisciplina</th>\n",
       "      <th>nomeDisciplina</th>\n",
       "      <th>créditos</th>\n",
       "      <th>periodoCursado</th>\n",
       "      <th>SituaçãoApRep</th>\n",
       "      <th>Nota</th>\n",
       "    </tr>\n",
       "  </thead>\n",
       "  <tbody>\n",
       "    <tr>\n",
       "      <th>0</th>\n",
       "      <td>ICP131</td>\n",
       "      <td>“Números Inteiros e Cripto”</td>\n",
       "      <td>4</td>\n",
       "      <td>2000/1</td>\n",
       "      <td>Aprovado</td>\n",
       "      <td>35</td>\n",
       "    </tr>\n",
       "    <tr>\n",
       "      <th>1</th>\n",
       "      <td>ICP132</td>\n",
       "      <td>“Fund da Computação Digital”</td>\n",
       "      <td>4</td>\n",
       "      <td>2000/1</td>\n",
       "      <td>Aprovado</td>\n",
       "      <td>45</td>\n",
       "    </tr>\n",
       "    <tr>\n",
       "      <th>2</th>\n",
       "      <td>ICP120</td>\n",
       "      <td>“Computação I (CC)”</td>\n",
       "      <td>5</td>\n",
       "      <td>2000/1</td>\n",
       "      <td>Aprovado</td>\n",
       "      <td>50</td>\n",
       "    </tr>\n",
       "    <tr>\n",
       "      <th>3</th>\n",
       "      <td>MAE111</td>\n",
       "      <td>“Cálculo Infinitesimal I”</td>\n",
       "      <td>6</td>\n",
       "      <td>2000/1</td>\n",
       "      <td>Reprovado</td>\n",
       "      <td>56</td>\n",
       "    </tr>\n",
       "    <tr>\n",
       "      <th>4</th>\n",
       "      <td>ICP133</td>\n",
       "      <td>“Projeto de Carreira”</td>\n",
       "      <td>4</td>\n",
       "      <td>2000/1</td>\n",
       "      <td>Aprovado</td>\n",
       "      <td>60</td>\n",
       "    </tr>\n",
       "  </tbody>\n",
       "</table>\n",
       "</div>"
      ],
      "text/plain": [
       "  códigoDisciplina                nomeDisciplina  créditos periodoCursado  \\\n",
       "0           ICP131   “Números Inteiros e Cripto”         4         2000/1   \n",
       "1           ICP132  “Fund da Computação Digital”         4         2000/1   \n",
       "2           ICP120           “Computação I (CC)”         5         2000/1   \n",
       "3           MAE111     “Cálculo Infinitesimal I”         6         2000/1   \n",
       "4           ICP133         “Projeto de Carreira”         4         2000/1   \n",
       "\n",
       "  SituaçãoApRep  Nota  \n",
       "0      Aprovado    35  \n",
       "1      Aprovado    45  \n",
       "2      Aprovado    50  \n",
       "3     Reprovado    56  \n",
       "4      Aprovado    60  "
      ]
     },
     "execution_count": 13,
     "metadata": {},
     "output_type": "execute_result"
    }
   ],
   "source": [
    "# Importando bibliotecas\n",
    "import pandas as pd\n",
    "import numpy as np\n",
    "\n",
    "# Carregando dataset\n",
    "df = pd.read_csv('./Notas/notas.csv')\n",
    "\n",
    "df.head()"
   ]
  },
  {
   "cell_type": "markdown",
   "id": "15142bea",
   "metadata": {},
   "source": [
    "Verificando os tipos dos atributos"
   ]
  },
  {
   "cell_type": "code",
   "execution_count": 14,
   "id": "7d474a6c",
   "metadata": {},
   "outputs": [
    {
     "data": {
      "text/plain": [
       "códigoDisciplina    object\n",
       "nomeDisciplina      object\n",
       "créditos             int64\n",
       "periodoCursado      object\n",
       "SituaçãoApRep       object\n",
       "Nota                 int64\n",
       "dtype: object"
      ]
     },
     "execution_count": 14,
     "metadata": {},
     "output_type": "execute_result"
    }
   ],
   "source": [
    "# Tipos de dados\n",
    "df.dtypes"
   ]
  },
  {
   "cell_type": "markdown",
   "id": "10f804c1",
   "metadata": {},
   "source": [
    "Contando o número de instâncias de cada atributo no dataframe"
   ]
  },
  {
   "cell_type": "code",
   "execution_count": 15,
   "id": "eeeed5e2",
   "metadata": {},
   "outputs": [
    {
     "data": {
      "text/plain": [
       "códigoDisciplina    10\n",
       "nomeDisciplina      10\n",
       "créditos            10\n",
       "periodoCursado      10\n",
       "SituaçãoApRep       10\n",
       "Nota                10\n",
       "dtype: int64"
      ]
     },
     "execution_count": 15,
     "metadata": {},
     "output_type": "execute_result"
    }
   ],
   "source": [
    "# Número de instâncias por atributo\n",
    "df.count()"
   ]
  },
  {
   "cell_type": "markdown",
   "id": "5d56d551",
   "metadata": {},
   "source": [
    "Avaliação preliminar da base de dados"
   ]
  },
  {
   "cell_type": "code",
   "execution_count": 16,
   "id": "3982d182",
   "metadata": {},
   "outputs": [
    {
     "name": "stdout",
     "output_type": "stream",
     "text": [
      "Média Simples1:  66.6\n",
      "Média Simples2:  66.6\n",
      "Média Ponderada:  67.06382978723404\n",
      "Mediana:  60.5\n",
      "Moda - Elemento:  90\n",
      "Moda - Frequência:  2\n"
     ]
    }
   ],
   "source": [
    "# Módulo stats da biblioteca scipy\n",
    "from scipy import stats\n",
    "\n",
    "# Média Simples\n",
    "mediaSimples1 = np.mean(df['Nota'])\n",
    "mediaSimples2 = np.average(df['Nota'])\n",
    "\n",
    "# Média Ponderada\n",
    "mediaPonderada = np.average(df['Nota'],weights=df['créditos'])\n",
    "\n",
    "# Mediana\n",
    "medianaNotas = np.median(df['Nota'])\n",
    "\n",
    "# Moda\n",
    "Moda = stats.mode(df['Nota'],keepdims=True)\n",
    "\n",
    "print('Média Simples1: ',mediaSimples1)\n",
    "print('Média Simples2: ',mediaSimples2)\n",
    "print('Média Ponderada: ',mediaPonderada)\n",
    "print('Mediana: ',medianaNotas)\n",
    "print('Moda - Elemento: ',Moda[0][0])\n",
    "print('Moda - Frequência: ',Moda[1][0])"
   ]
  },
  {
   "cell_type": "markdown",
   "id": "ff869845",
   "metadata": {},
   "source": [
    "Medida de dispersão - Quartis - Utilizando Pandas e Numpy"
   ]
  },
  {
   "cell_type": "code",
   "execution_count": 17,
   "id": "b899468e",
   "metadata": {},
   "outputs": [
    {
     "name": "stdout",
     "output_type": "stream",
     "text": [
      "Primeiro quartil:  51.5\n",
      "Segundo quartil:  60.5\n",
      "Terceiro quartil:  88.75\n"
     ]
    }
   ],
   "source": [
    "# usando Dataframe\n",
    "Q1df = df['Nota'].quantile(.25)\n",
    "Q2df = df['Nota'].quantile(.5)\n",
    "Q3df = df['Nota'].quantile(.75)\n",
    "\n",
    "print('Primeiro quartil: ',Q1df)\n",
    "print('Segundo quartil: ',Q2df)\n",
    "print('Terceiro quartil: ',Q3df)"
   ]
  },
  {
   "cell_type": "code",
   "execution_count": 18,
   "id": "1c1f4f23",
   "metadata": {},
   "outputs": [
    {
     "name": "stdout",
     "output_type": "stream",
     "text": [
      "Primeiro quartil:  51.5\n",
      "Segundo quartil:  60.5\n",
      "Terceiro quartil:  88.75\n"
     ]
    }
   ],
   "source": [
    "# usando Numpy\n",
    "Q1numpy = np.percentile(df['Nota'], 25)\n",
    "Q2numpy = np.percentile(df['Nota'], 50)\n",
    "Q3numpy = np.percentile(df['Nota'], 75)\n",
    "\n",
    "print('Primeiro quartil: ',Q1numpy)\n",
    "print('Segundo quartil: ',Q2numpy)\n",
    "print('Terceiro quartil: ',Q3numpy)"
   ]
  },
  {
   "cell_type": "markdown",
   "id": "7cb7dda4",
   "metadata": {},
   "source": [
    "Intervalo iterquartílico (IQR) utilizando a biblioteca scipy"
   ]
  },
  {
   "cell_type": "code",
   "execution_count": 19,
   "id": "2ee28fbe",
   "metadata": {},
   "outputs": [
    {
     "name": "stdout",
     "output_type": "stream",
     "text": [
      "37.25\n"
     ]
    }
   ],
   "source": [
    "from scipy.stats import iqr\n",
    "\n",
    "IQR=iqr(df['Nota'])\n",
    "print(IQR)"
   ]
  },
  {
   "cell_type": "markdown",
   "id": "fc05fd5b",
   "metadata": {},
   "source": [
    "Gerando o gráfico boxplot"
   ]
  },
  {
   "cell_type": "code",
   "execution_count": 20,
   "id": "bfbab4a4",
   "metadata": {},
   "outputs": [
    {
     "data": {
      "image/png": "[encoded data removed]",
      "text/plain": [
       "<Figure size 640x480 with 1 Axes>"
      ]
     },
     "metadata": {},
     "output_type": "display_data"
    }
   ],
   "source": [
    "boxplot = df.boxplot(column=['Nota'])  "
   ]
  },
  {
   "cell_type": "code",
   "execution_count": 21,
   "id": "d4e747df",
   "metadata": {},
   "outputs": [
    {
     "data": {
      "image/png": "[encoded data removed]",
      "text/plain": [
       "<Figure size 640x480 with 1 Axes>"
      ]
     },
     "metadata": {},
     "output_type": "display_data"
    }
   ],
   "source": [
    "# Carregando dataset\n",
    "df1 = pd.read_csv('./Notas/notasOutlier.csv')\n",
    "boxplot = df1.boxplot(column=['Nota'])  "
   ]
  },
  {
   "cell_type": "code",
   "execution_count": 23,
   "id": "63f06d0b",
   "metadata": {},
   "outputs": [
    {
     "name": "stdout",
     "output_type": "stream",
     "text": [
      "Limite Inferior: -4.375\n",
      "Outliers Inferior\n",
      "Series([], Name: Nota, dtype: int64)\n",
      "\n",
      "Limite Superior: 144.625\n",
      "Outliers Superiores\n",
      "Series([], Name: Nota, dtype: int64)\n"
     ]
    }
   ],
   "source": [
    "# Limite Inferior\n",
    "Inferior = Q1numpy-1.5*IQR\n",
    "print(\"Limite Inferior:\",Inferior)\n",
    "\n",
    "# Outliers - Inferior\n",
    "outlierInf = df.loc[df['Nota']<= Inferior]\n",
    "indicesOutlierInf = outlierInf.index  \n",
    "\n",
    "print('Outliers Inferior')\n",
    "print(df['Nota'].loc[indicesOutlierInf])\n",
    "\n",
    "print()\n",
    "\n",
    "# Limite Superior\n",
    "Superior = Q3numpy+1.5*IQR\n",
    "print(\"Limite Superior:\",Superior)\n",
    "\n",
    "# Outliers - Superior\n",
    "outlierSup = df.loc[df['Nota']>= Superior]\n",
    "indicesOutlierSup = outlierSup.index  \n",
    "\n",
    "print('Outliers Superiores')\n",
    "print(df['Nota'].loc[indicesOutlierSup]) \n",
    "\n",
    "# https://www.geeksforgeeks.org/detect-and-remove-the-outliers-using-python/"
   ]
  },
  {
   "cell_type": "markdown",
   "id": "c385ab60",
   "metadata": {},
   "source": [
    "Z-score"
   ]
  },
  {
   "cell_type": "code",
   "execution_count": 24,
   "id": "9443e0cb",
   "metadata": {},
   "outputs": [
    {
     "name": "stdout",
     "output_type": "stream",
     "text": [
      "Média:  66.6\n",
      "Variância:  456.9333333333334\n",
      "Desvio Padrão:  21.375999001995986\n",
      "\n",
      "z-score\n",
      "0   -1.558258\n",
      "1   -1.065138\n",
      "2   -0.818579\n",
      "3   -0.522707\n",
      "4   -0.325459\n",
      "5   -0.276147\n",
      "6    0.907340\n",
      "7    1.153900\n",
      "8    1.153900\n",
      "9    1.351148\n",
      "Name: Nota, dtype: float64\n"
     ]
    }
   ],
   "source": [
    "from scipy import stats\n",
    "\n",
    "mediaNotas = df['Nota'].mean()\n",
    "varianciaNotas = df['Nota'].var()\n",
    "desvioNotas = df['Nota'].std()\n",
    "\n",
    "print('Média: ',mediaNotas)\n",
    "print('Variância: ',varianciaNotas)\n",
    "print('Desvio Padrão: ',desvioNotas)\n",
    "print()\n",
    "\n",
    "# cálculo do z-score das notas\n",
    "z = stats.zscore(df['Nota'])\n",
    "\n",
    "# z-score\n",
    "print('z-score')\n",
    "print(z)"
   ]
  },
  {
   "cell_type": "code",
   "execution_count": null,
   "id": "f4c747f7",
   "metadata": {},
   "outputs": [],
   "source": []
  }
 ],
 "metadata": {
  "kernelspec": {
   "display_name": "Python 3",
   "language": "python",
   "name": "python3"
  },
  "language_info": {
   "codemirror_mode": {
    "name": "ipython",
    "version": 3
   },
   "file_extension": ".py",
   "mimetype": "text/x-python",
   "name": "python",
   "nbconvert_exporter": "python",
   "pygments_lexer": "ipython3",
   "version": "3.8.10"
  }
 },
 "nbformat": 4,
 "nbformat_minor": 5
}
